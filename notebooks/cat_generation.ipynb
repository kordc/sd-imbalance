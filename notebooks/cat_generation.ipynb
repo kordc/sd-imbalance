{
 "cells": [
  {
   "cell_type": "code",
   "execution_count": 1,
   "id": "43f3126a-c3cc-4d99-9df3-44a331552a9b",
   "metadata": {},
   "outputs": [
    {
     "name": "stdout",
     "output_type": "stream",
     "text": [
      "Defaulting to user installation because normal site-packages is not writeable\n",
      "Collecting peft\n",
      "  Downloading peft-0.14.0-py3-none-any.whl (374 kB)\n",
      "\u001b[2K     \u001b[90m━━━━━━━━━━━━━━━━━━━━━━━━━━━━━━━━━━━━━━\u001b[0m \u001b[32m374.8/374.8 KB\u001b[0m \u001b[31m10.1 MB/s\u001b[0m eta \u001b[36m0:00:00\u001b[0m00:01\u001b[0m\n",
      "Collecting transformers\n",
      "  Downloading transformers-4.48.0-py3-none-any.whl (9.7 MB)\n",
      "\u001b[2K     \u001b[90m━━━━━━━━━━━━━━━━━━━━━━━━━━━━━━━━━━━━━━━━\u001b[0m \u001b[32m9.7/9.7 MB\u001b[0m \u001b[31m100.6 MB/s\u001b[0m eta \u001b[36m0:00:00\u001b[0m00:01\u001b[0m00:01\u001b[0m\n",
      "Collecting diffusers\n",
      "  Downloading diffusers-0.32.1-py3-none-any.whl (3.2 MB)\n",
      "\u001b[2K     \u001b[90m━━━━━━━━━━━━━━━━━━━━━━━━━━━━━━━━━━━━━━━━\u001b[0m \u001b[32m3.2/3.2 MB\u001b[0m \u001b[31m116.6 MB/s\u001b[0m eta \u001b[36m0:00:00\u001b[0m\n",
      "Collecting accelerate\n",
      "  Downloading accelerate-1.2.1-py3-none-any.whl (336 kB)\n",
      "\u001b[2K     \u001b[90m━━━━━━━━━━━━━━━━━━━━━━━━━━━━━━━━━━━━━━\u001b[0m \u001b[32m336.4/336.4 KB\u001b[0m \u001b[31m67.3 MB/s\u001b[0m eta \u001b[36m0:00:00\u001b[0m\n",
      "Collecting tqdm\n",
      "  Downloading tqdm-4.67.1-py3-none-any.whl (78 kB)\n",
      "\u001b[2K     \u001b[90m━━━━━━━━━━━━━━━━━━━━━━━━━━━━━━━━━━━━━━━━\u001b[0m \u001b[32m78.5/78.5 KB\u001b[0m \u001b[31m22.1 MB/s\u001b[0m eta \u001b[36m0:00:00\u001b[0m\n",
      "Collecting sentencepiece\n",
      "  Downloading sentencepiece-0.2.0-cp310-cp310-manylinux_2_17_x86_64.manylinux2014_x86_64.whl (1.3 MB)\n",
      "\u001b[2K     \u001b[90m━━━━━━━━━━━━━━━━━━━━━━━━━━━━━━━━━━━━━━━━\u001b[0m \u001b[32m1.3/1.3 MB\u001b[0m \u001b[31m108.1 MB/s\u001b[0m eta \u001b[36m0:00:00\u001b[0m\n",
      "Collecting ipywidgets\n",
      "  Downloading ipywidgets-8.1.5-py3-none-any.whl (139 kB)\n",
      "\u001b[2K     \u001b[90m━━━━━━━━━━━━━━━━━━━━━━━━━━━━━━━━━━━━━━\u001b[0m \u001b[32m139.8/139.8 KB\u001b[0m \u001b[31m37.2 MB/s\u001b[0m eta \u001b[36m0:00:00\u001b[0m\n",
      "\u001b[?25hRequirement already satisfied: psutil in /usr/lib/python3/dist-packages (from peft) (5.9.0)\n",
      "Collecting safetensors\n",
      "  Downloading safetensors-0.5.2-cp38-abi3-manylinux_2_17_x86_64.manylinux2014_x86_64.whl (461 kB)\n",
      "\u001b[2K     \u001b[90m━━━━━━━━━━━━━━━━━━━━━━━━━━━━━━━━━━━━━━\u001b[0m \u001b[32m462.0/462.0 KB\u001b[0m \u001b[31m78.4 MB/s\u001b[0m eta \u001b[36m0:00:00\u001b[0m\n",
      "\u001b[?25hRequirement already satisfied: numpy>=1.17 in /usr/lib/python3/dist-packages (from peft) (1.21.5)\n",
      "Collecting huggingface-hub>=0.25.0\n",
      "  Downloading huggingface_hub-0.27.1-py3-none-any.whl (450 kB)\n",
      "\u001b[2K     \u001b[90m━━━━━━━━━━━━━━━━━━━━━━━━━━━━━━━━━━━━━━\u001b[0m \u001b[32m450.7/450.7 KB\u001b[0m \u001b[31m72.7 MB/s\u001b[0m eta \u001b[36m0:00:00\u001b[0m\n",
      "Requirement already satisfied: pyyaml in /usr/lib/python3/dist-packages (from peft) (5.4.1)\n",
      "Requirement already satisfied: packaging>=20.0 in /usr/lib/python3/dist-packages (from peft) (21.3)\n",
      "Requirement already satisfied: torch>=1.13.0 in /usr/lib/python3/dist-packages (from peft) (2.5.1)\n",
      "Requirement already satisfied: requests in /usr/lib/python3/dist-packages (from transformers) (2.25.1)\n",
      "Requirement already satisfied: filelock in /usr/lib/python3/dist-packages (from transformers) (3.6.0)\n",
      "Collecting regex!=2019.12.17\n",
      "  Downloading regex-2024.11.6-cp310-cp310-manylinux_2_17_x86_64.manylinux2014_x86_64.whl (781 kB)\n",
      "\u001b[2K     \u001b[90m━━━━━━━━━━━━━━━━━━━━━━━━━━━━━━━━━━━━━━\u001b[0m \u001b[32m781.7/781.7 KB\u001b[0m \u001b[31m88.6 MB/s\u001b[0m eta \u001b[36m0:00:00\u001b[0m\n",
      "Collecting tokenizers<0.22,>=0.21\n",
      "  Downloading tokenizers-0.21.0-cp39-abi3-manylinux_2_17_x86_64.manylinux2014_x86_64.whl (3.0 MB)\n",
      "\u001b[2K     \u001b[90m━━━━━━━━━━━━━━━━━━━━━━━━━━━━━━━━━━━━━━━━\u001b[0m \u001b[32m3.0/3.0 MB\u001b[0m \u001b[31m115.9 MB/s\u001b[0m eta \u001b[36m0:00:00\u001b[0m\n",
      "Requirement already satisfied: Pillow in /usr/lib/python3/dist-packages (from diffusers) (9.0.1)\n",
      "Requirement already satisfied: importlib-metadata in /usr/lib/python3/dist-packages (from diffusers) (4.6.4)\n",
      "Collecting widgetsnbextension~=4.0.12\n",
      "  Downloading widgetsnbextension-4.0.13-py3-none-any.whl (2.3 MB)\n",
      "\u001b[2K     \u001b[90m━━━━━━━━━━━━━━━━━━━━━━━━━━━━━━━━━━━━━━━━\u001b[0m \u001b[32m2.3/2.3 MB\u001b[0m \u001b[31m124.7 MB/s\u001b[0m eta \u001b[36m0:00:00\u001b[0m\n",
      "\u001b[?25hRequirement already satisfied: ipython>=6.1.0 in /usr/lib/python3/dist-packages (from ipywidgets) (7.31.1)\n",
      "Collecting jupyterlab-widgets~=3.0.12\n",
      "  Downloading jupyterlab_widgets-3.0.13-py3-none-any.whl (214 kB)\n",
      "\u001b[2K     \u001b[90m━━━━━━━━━━━━━━━━━━━━━━━━━━━━━━━━━━━━━━\u001b[0m \u001b[32m214.4/214.4 KB\u001b[0m \u001b[31m49.7 MB/s\u001b[0m eta \u001b[36m0:00:00\u001b[0m\n",
      "Collecting comm>=0.1.3\n",
      "  Downloading comm-0.2.2-py3-none-any.whl (7.2 kB)\n",
      "Requirement already satisfied: traitlets>=4.3.1 in /usr/lib/python3/dist-packages (from ipywidgets) (5.1.1)\n",
      "Requirement already satisfied: typing-extensions>=3.7.4.3 in /usr/lib/python3/dist-packages (from huggingface-hub>=0.25.0->peft) (4.9.0)\n",
      "Requirement already satisfied: fsspec>=2023.5.0 in /usr/lib/python3/dist-packages (from huggingface-hub>=0.25.0->peft) (2024.3.1)\n",
      "Installing collected packages: sentencepiece, widgetsnbextension, tqdm, safetensors, regex, jupyterlab-widgets, comm, ipywidgets, huggingface-hub, tokenizers, diffusers, accelerate, transformers, peft\n",
      "Successfully installed accelerate-1.2.1 comm-0.2.2 diffusers-0.32.1 huggingface-hub-0.27.1 ipywidgets-8.1.5 jupyterlab-widgets-3.0.13 peft-0.14.0 regex-2024.11.6 safetensors-0.5.2 sentencepiece-0.2.0 tokenizers-0.21.0 tqdm-4.67.1 transformers-4.48.0 widgetsnbextension-4.0.13\n"
     ]
    }
   ],
   "source": [
    "!pip3 install -U peft transformers diffusers accelerate tqdm sentencepiece ipywidgets"
   ]
  },
  {
   "cell_type": "code",
   "execution_count": 1,
   "id": "fa750465-b17a-4ae2-9ee5-3ca0cd74ad67",
   "metadata": {},
   "outputs": [
    {
     "name": "stderr",
     "output_type": "stream",
     "text": [
      "2025-01-13 08:56:43.079919: E external/local_xla/xla/stream_executor/cuda/cuda_fft.cc:477] Unable to register cuFFT factory: Attempting to register factory for plugin cuFFT when one has already been registered\n",
      "WARNING: All log messages before absl::InitializeLog() is called are written to STDERR\n",
      "E0000 00:00:1736758603.097727    3368 cuda_dnn.cc:8310] Unable to register cuDNN factory: Attempting to register factory for plugin cuDNN when one has already been registered\n",
      "E0000 00:00:1736758603.103161    3368 cuda_blas.cc:1418] Unable to register cuBLAS factory: Attempting to register factory for plugin cuBLAS when one has already been registered\n"
     ]
    },
    {
     "name": "stdout",
     "output_type": "stream",
     "text": [
      "Cat breeds: 100\n",
      "Prepositions: 6\n",
      "Objects: 61\n"
     ]
    }
   ],
   "source": [
    "# !pip3 install -U transformers diffusers accelerate tqdm sentencepiece ipywidgets\n",
    "# !huggingface-cli login\n",
    "from diffusers import DiffusionPipeline, StableDiffusion3Pipeline\n",
    "import torch\n",
    "import os\n",
    "from tqdm import tqdm\n",
    "import random\n",
    "import itertools\n",
    "\n",
    "# Expanded list of cat breeds\n",
    "cat_breeds = [\n",
    "    \"Abyssinian\",\n",
    "    \"Aegean\",\n",
    "    \"American Bobtail\",\n",
    "    \"American Curl\",\n",
    "    \"American Ringtail\",\n",
    "    \"American Shorthair\",\n",
    "    \"American Wirehair\",\n",
    "    \"Aphrodite Giant\",\n",
    "    \"Arabian Mau\",\n",
    "    \"Asian\",\n",
    "    \"Asian Semi-longhair\",\n",
    "    \"Australian Mist\",\n",
    "    \"Balinese\",\n",
    "    \"Bambino\",\n",
    "    \"Bengal\",\n",
    "    \"Birman\",\n",
    "    \"Bombay\",\n",
    "    \"Brazilian Shorthair\",\n",
    "    \"British Longhair\",\n",
    "    \"British Shorthair\",\n",
    "    \"Burmese\",\n",
    "    \"Burmilla\",\n",
    "    \"California Spangled\",\n",
    "    \"Chantilly-Tiffany\",\n",
    "    \"Chartreux\",\n",
    "    \"Chausie\",\n",
    "    \"Colorpoint Shorthair\",\n",
    "    \"Cornish Rex\",\n",
    "    \"Cymric\",\n",
    "    \"Cyprus\",\n",
    "    \"Devon Rex\",\n",
    "    \"Donskoy\",\n",
    "    \"Dragon Li\",\n",
    "    \"Dwelf\",\n",
    "    \"Egyptian Mau\",\n",
    "    \"European Shorthair\",\n",
    "    \"Exotic Shorthair\",\n",
    "    \"Foldex\",\n",
    "    \"German Rex\",\n",
    "    \"Havana Brown\",\n",
    "    \"Highlander\",\n",
    "    \"Himalayan\",\n",
    "    \"Japanese Bobtail\",\n",
    "    \"Javanese\",\n",
    "    \"Kanaani\",\n",
    "    \"Karelian Bobtail\",\n",
    "    \"Khao Manee\",\n",
    "    \"Kinkalow\",\n",
    "    \"Korat\",\n",
    "    \"Korean Bobtail\",\n",
    "    \"Korn Ja\",\n",
    "    \"Kurilian Bobtail\",\n",
    "    \"Lambkin\",\n",
    "    \"LaPerm\",\n",
    "    \"Lykoi\",\n",
    "    \"Maine Coon\",\n",
    "    \"Manx\",\n",
    "    \"Mekong Bobtail\",\n",
    "    \"Minskin\",\n",
    "    \"Minuet\",\n",
    "    \"Munchkin\",\n",
    "    \"Nebelung\",\n",
    "    \"Neva Masquerade\",\n",
    "    \"Norwegian Forest cat\",\n",
    "    \"Ocicat\",\n",
    "    \"Ojos Azules\",\n",
    "    \"Oriental Bicolor\",\n",
    "    \"Oriental Longhair\",\n",
    "    \"Oriental Shorthair\",\n",
    "    \"Persian\",\n",
    "    \"Peterbald\",\n",
    "    \"Pixie-bob\",\n",
    "    \"Ragamuffin\",\n",
    "    \"Ragdoll\",\n",
    "    \"Raas\",\n",
    "    \"Russian Blue\",\n",
    "    \"Russian White, Russian Black and Russian Tabby\",\n",
    "    \"Sam Sawet\",\n",
    "    \"Savannah\",\n",
    "    \"Scottish Fold\",\n",
    "    \"Selkirk Rex\",\n",
    "    \"Serengeti\",\n",
    "    \"Siamese\",\n",
    "    \"Siberian\",\n",
    "    \"Singapura\",\n",
    "    \"Snowshoe\",\n",
    "    \"Sokoke\",\n",
    "    \"Somali\",\n",
    "    \"Sphynx\",\n",
    "    \"Suphalak\",\n",
    "    \"Thai\",\n",
    "    \"Thai Lilac\",\n",
    "    \"Tonkinese\",\n",
    "    \"Toybob\",\n",
    "    \"Toyger\",\n",
    "    \"Turkish Angora\",\n",
    "    \"Turkish Van\",\n",
    "    \"Turkish Vankedisi\",\n",
    "    \"Ukrainian Levkoy\",\n",
    "    \"York Chocolate\",\n",
    "]\n",
    "\n",
    "print(f\"Cat breeds: {len(cat_breeds)}\")\n",
    "\n",
    "# Expanded list of prepositions\n",
    "prepositions = [\"on\", \"under\", \"next to\", \"beside\", \"in front of\", \"behind\"]\n",
    "\n",
    "# Furniture types that fit with the prepositions\n",
    "furniture_or_outdoor = {\n",
    "    \"on\": [\n",
    "        # Indoor furniture\n",
    "        \"sofa\",\n",
    "        \"armchair\",\n",
    "        \"dining table\",\n",
    "        \"coffee table\",\n",
    "        \"bed\",\n",
    "        \"bookshelf\",\n",
    "        \"cabinet\",\n",
    "        \"cupboard\",\n",
    "        \"chair\",\n",
    "        \"desk\",\n",
    "        \"ottoman\",\n",
    "        \"recliner\",\n",
    "        \"side table\",\n",
    "        \"nightstand\",\n",
    "        \"TV stand\",\n",
    "        \"TV cabinet\",\n",
    "        \"end table\",\n",
    "        \"love seat\",\n",
    "        \"couch\",\n",
    "        \"lounge chair\",\n",
    "        \"bean bag\",\n",
    "        \"bar stool\",\n",
    "        \"console table\",\n",
    "        \"chest of drawers\",\n",
    "        \"vanity\",\n",
    "        \"shelf\",\n",
    "        # Outdoor/natural elements\n",
    "        \"rock\",\n",
    "        \"tree stump\",\n",
    "        \"fence\",\n",
    "        \"bench\",\n",
    "        \"picnic table\",\n",
    "        \"grass\",\n",
    "        \"car hood\",\n",
    "        \"roof\",\n",
    "        \"garden wall\",\n",
    "        \"park bench\",\n",
    "        \"log\",\n",
    "        \"fallen tree\",\n",
    "        \"sand dune\",\n",
    "        \"boulder\",\n",
    "    ],\n",
    "    \"under\": [\n",
    "        # Indoor furniture\n",
    "        \"sofa\",\n",
    "        \"bed\",\n",
    "        \"coffee table\",\n",
    "        \"side table\",\n",
    "        \"desk\",\n",
    "        \"recliner\",\n",
    "        \"nightstand\",\n",
    "        \"chest of drawers\",\n",
    "        \"love seat\",\n",
    "        \"couch\",\n",
    "        \"bookshelf\",\n",
    "        # Outdoor/natural elements\n",
    "        \"tree\",\n",
    "        \"bush\",\n",
    "        \"bridge\",\n",
    "        \"rock\",\n",
    "        \"table\",\n",
    "        \"park bench\",\n",
    "        \"porch\",\n",
    "        \"car\",\n",
    "        \"wooden deck\",\n",
    "        \"fallen tree\",\n",
    "        \"shade\",\n",
    "        \"overhang\",\n",
    "    ],\n",
    "    \"next to\": [\n",
    "        # Indoor furniture\n",
    "        \"sofa\",\n",
    "        \"armchair\",\n",
    "        \"dining table\",\n",
    "        \"coffee table\",\n",
    "        \"bookshelf\",\n",
    "        \"cabinet\",\n",
    "        \"cupboard\",\n",
    "        \"chair\",\n",
    "        \"ottoman\",\n",
    "        \"recliner\",\n",
    "        \"side table\",\n",
    "        \"nightstand\",\n",
    "        \"TV stand\",\n",
    "        \"end table\",\n",
    "        \"love seat\",\n",
    "        \"lounge chair\",\n",
    "        \"console table\",\n",
    "        \"vanity\",\n",
    "        \"window sill\",\n",
    "        # Outdoor/natural elements\n",
    "        \"tree\",\n",
    "        \"bush\",\n",
    "        \"fence\",\n",
    "        \"bench\",\n",
    "        \"log\",\n",
    "        \"rock\",\n",
    "        \"flower bed\",\n",
    "        \"pathway\",\n",
    "        \"pond\",\n",
    "        \"stream\",\n",
    "        \"hill\",\n",
    "        \"park bench\",\n",
    "        \"fire hydrant\",\n",
    "        \"fallen tree\",\n",
    "    ],\n",
    "    \"beside\": [\n",
    "        # Indoor furniture\n",
    "        \"sofa\",\n",
    "        \"armchair\",\n",
    "        \"dining table\",\n",
    "        \"coffee table\",\n",
    "        \"bed\",\n",
    "        \"bookshelf\",\n",
    "        \"chair\",\n",
    "        \"ottoman\",\n",
    "        \"recliner\",\n",
    "        \"side table\",\n",
    "        \"nightstand\",\n",
    "        \"love seat\",\n",
    "        \"couch\",\n",
    "        \"lounge chair\",\n",
    "        \"vanity\",\n",
    "        # Outdoor/natural elements\n",
    "        \"tree\",\n",
    "        \"rock\",\n",
    "        \"bush\",\n",
    "        \"fence\",\n",
    "        \"bench\",\n",
    "        \"stream\",\n",
    "        \"pathway\",\n",
    "        \"log\",\n",
    "        \"garden wall\",\n",
    "        \"pond\",\n",
    "        \"flower bed\",\n",
    "        \"hill\",\n",
    "        \"fallen tree\",\n",
    "    ],\n",
    "    \"in front of\": [\n",
    "        # Indoor furniture\n",
    "        \"sofa\",\n",
    "        \"armchair\",\n",
    "        \"coffee table\",\n",
    "        \"cabinet\",\n",
    "        \"cupboard\",\n",
    "        \"TV stand\",\n",
    "        \"console table\",\n",
    "        \"chest of drawers\",\n",
    "        \"bed\",\n",
    "        \"recliner\",\n",
    "        \"side table\",\n",
    "        \"dining chairs\",\n",
    "        \"love seat\",\n",
    "        # Outdoor/natural elements\n",
    "        \"tree\",\n",
    "        \"rock\",\n",
    "        \"fence\",\n",
    "        \"bush\",\n",
    "        \"bench\",\n",
    "        \"stream\",\n",
    "        \"pathway\",\n",
    "        \"building\",\n",
    "        \"garden wall\",\n",
    "        \"pond\",\n",
    "        \"waterfall\",\n",
    "        \"hill\",\n",
    "        \"statue\",\n",
    "    ],\n",
    "    \"behind\": [\n",
    "        # Indoor furniture\n",
    "        \"sofa\",\n",
    "        \"armchair\",\n",
    "        \"bookshelf\",\n",
    "        \"recliner\",\n",
    "        \"cabinet\",\n",
    "        \"TV stand\",\n",
    "        \"chest of drawers\",\n",
    "        \"love seat\",\n",
    "        # Outdoor/natural elements\n",
    "        \"tree\",\n",
    "        \"bush\",\n",
    "        \"fence\",\n",
    "        \"rock\",\n",
    "        \"log\",\n",
    "        \"bench\",\n",
    "        \"building\",\n",
    "        \"hill\",\n",
    "        \"statue\",\n",
    "        \"garden wall\",\n",
    "        \"shed\",\n",
    "    ],\n",
    "}\n",
    "camera_angles = [\n",
    "    \"a photo taken from above\",\n",
    "    \"a photo taken from below\",\n",
    "    \"a side-view photo\",\n",
    "    \"a front-facing photo\",\n",
    "    \"a photo taken from behind\",\n",
    "]\n",
    "\n",
    "# List of gaze directions\n",
    "gaze_directions = [\n",
    "    \"looking straight ahead\",\n",
    "    \"looking up\",\n",
    "    \"looking down\",\n",
    "    \"looking to the left\",\n",
    "    \"looking to the right\",\n",
    "    \"looking up and to the left\",\n",
    "    \"looking up and to the right\",\n",
    "    \"looking down and to the left\",\n",
    "    \"looking down and to the right\",\n",
    "    \"eyes closed\",\n",
    "    \"looking over its shoulder\",\n",
    "]\n",
    "print(f\"Prepositions: {len(furniture_or_outdoor)}\")\n",
    "print(\n",
    "    f\"Objects: {len(set(list(itertools.chain.from_iterable(furniture_or_outdoor.values()))))}\"\n",
    ")"
   ]
  },
  {
   "cell_type": "code",
   "execution_count": 2,
   "id": "7fc17b8f-70e8-41e2-a62e-cae4c8486d45",
   "metadata": {},
   "outputs": [],
   "source": [
    "import numpy as np\n",
    "\n",
    "\n",
    "def set_seeds(seed=42):\n",
    "    \"\"\"\n",
    "    Fix all possible seeds to ensure reproducibility.\n",
    "    :param seed: The seed value to be set for all libraries.\n",
    "    \"\"\"\n",
    "    # Python random module\n",
    "    random.seed(seed)\n",
    "    # NumPy\n",
    "    np.random.seed(seed)\n",
    "    # PyTorch\n",
    "    torch.manual_seed(seed)\n",
    "    torch.cuda.manual_seed(seed)\n",
    "    torch.cuda.manual_seed_all(seed)  # If using multi-GPU\n",
    "    torch.backends.cudnn.deterministic = True  # Ensures deterministic behavior\n",
    "    torch.backends.cudnn.benchmark = False  # Disables optimizations for reproducibility\n",
    "    # Environment variable for other libraries or hash-based operations\n",
    "    os.environ[\"PYTHONHASHSEED\"] = str(seed)\n",
    "\n",
    "\n",
    "# Example usage\n",
    "set_seeds(42)"
   ]
  },
  {
   "cell_type": "code",
   "execution_count": 3,
   "id": "5e15e74c-866f-4de3-b100-737a73cc5a4d",
   "metadata": {},
   "outputs": [],
   "source": [
    "def make_img(folder: str = \"./tmp\", num_inference_steps=4, guidance_scale=0.0):\n",
    "    # Directory to save generated images\n",
    "    output_dir = folder\n",
    "    os.makedirs(output_dir, exist_ok=True)\n",
    "    set_seeds(123)\n",
    "    # Generate synthetic images\n",
    "    num_images = 5\n",
    "    for i in tqdm(range(num_images), desc=\"Generating Images\"):\n",
    "        # Randomly select components for the prompt\n",
    "        breed = random.choice(cat_breeds)\n",
    "        preposition = random.choice(prepositions)\n",
    "        furniture = random.choice(furniture_or_outdoor[preposition])\n",
    "        angle = random.choice(camera_angles)\n",
    "        gaze = random.choice(gaze_directions)\n",
    "        if i == 0:\n",
    "            angle = \"a photo taken from behind\"\n",
    "\n",
    "        # Construct the prompt\n",
    "        prompt = (\n",
    "            f\"{angle} of a {breed} cat {preposition} the {furniture}, {gaze}. \"\n",
    "            \"The cat has realistic fur textures, intricate details, and sharp features, \"\n",
    "            \"with soft lighting and a clear focus. The image has a shallow depth of field, \"\n",
    "            \"emphasizing the cat in fine detail. 8k, cinematic, photorealistic\"\n",
    "        )\n",
    "        print(prompt)\n",
    "        try:\n",
    "            # Generate image\n",
    "            result = pipe(\n",
    "                prompt,\n",
    "                num_inference_steps=num_inference_steps,\n",
    "                guidance_scale=guidance_scale,\n",
    "                width=512,\n",
    "                height=512,\n",
    "            )\n",
    "            image = result.images[0]  # Get the first image from the list\n",
    "\n",
    "            # Save the generated image\n",
    "            output_path = os.path.join(\n",
    "                output_dir, f\"small_{i:05d}_cat_{breed}_{preposition}_{furniture}.png\"\n",
    "            )\n",
    "            image.save(output_path)\n",
    "\n",
    "        except Exception as e:\n",
    "            print(f\"Failed to generate image {i}: {e}\")\n",
    "\n",
    "    print(f\"Generated {num_images} images and saved them in {output_dir}.\")"
   ]
  },
  {
   "cell_type": "code",
   "execution_count": 1,
   "id": "eedc7e71-6a81-406b-8332-06a7a1e62f4e",
   "metadata": {},
   "outputs": [
    {
     "ename": "NameError",
     "evalue": "name 'StableDiffusion3Pipeline' is not defined",
     "output_type": "error",
     "traceback": [
      "\u001b[0;31m---------------------------------------------------------------------------\u001b[0m",
      "\u001b[0;31mNameError\u001b[0m                                 Traceback (most recent call last)",
      "\u001b[0;32m/tmp/ipykernel_4308/3300529042.py\u001b[0m in \u001b[0;36m<module>\u001b[0;34m\u001b[0m\n\u001b[0;32m----> 1\u001b[0;31m \u001b[0mpipe\u001b[0m \u001b[0;34m=\u001b[0m \u001b[0mStableDiffusion3Pipeline\u001b[0m\u001b[0;34m.\u001b[0m\u001b[0mfrom_pretrained\u001b[0m\u001b[0;34m(\u001b[0m\u001b[0;34m\"stabilityai/stable-diffusion-3.5-large-turbo\"\u001b[0m\u001b[0;34m,\u001b[0m \u001b[0mtorch_dtype\u001b[0m\u001b[0;34m=\u001b[0m\u001b[0mtorch\u001b[0m\u001b[0;34m.\u001b[0m\u001b[0mbfloat16\u001b[0m\u001b[0;34m)\u001b[0m\u001b[0;34m\u001b[0m\u001b[0;34m\u001b[0m\u001b[0m\n\u001b[0m\u001b[1;32m      2\u001b[0m \u001b[0mpipe\u001b[0m \u001b[0;34m=\u001b[0m \u001b[0mpipe\u001b[0m\u001b[0;34m.\u001b[0m\u001b[0mto\u001b[0m\u001b[0;34m(\u001b[0m\u001b[0;34m\"cuda\"\u001b[0m\u001b[0;34m)\u001b[0m\u001b[0;34m\u001b[0m\u001b[0;34m\u001b[0m\u001b[0m\n\u001b[1;32m      3\u001b[0m \u001b[0mmake_img\u001b[0m\u001b[0;34m(\u001b[0m\u001b[0;34m\"stable-diffusion-3.5-large-turbo\"\u001b[0m\u001b[0;34m,\u001b[0m \u001b[0;36m6\u001b[0m\u001b[0;34m,\u001b[0m \u001b[0;36m0.1\u001b[0m\u001b[0;34m)\u001b[0m\u001b[0;34m\u001b[0m\u001b[0;34m\u001b[0m\u001b[0m\n",
      "\u001b[0;31mNameError\u001b[0m: name 'StableDiffusion3Pipeline' is not defined"
     ]
    }
   ],
   "source": [
    "pipe = StableDiffusion3Pipeline.from_pretrained(\n",
    "    \"stabilityai/stable-diffusion-3.5-large-turbo\", torch_dtype=torch.bfloat16\n",
    ")\n",
    "pipe = pipe.to(\"cuda\")\n",
    "make_img(\"stable-diffusion-3.5-large-turbo\", 6, 0.1)"
   ]
  },
  {
   "cell_type": "code",
   "execution_count": 36,
   "id": "22b6e57b-91d6-4d76-9a8d-efd8e4f07a25",
   "metadata": {},
   "outputs": [
    {
     "data": {
      "application/vnd.jupyter.widget-view+json": {
       "model_id": "8f1180fc424b464e974726c214860556",
       "version_major": 2,
       "version_minor": 0
      },
      "text/plain": [
       "Loading pipeline components...:   0%|          | 0/7 [00:00<?, ?it/s]"
      ]
     },
     "metadata": {},
     "output_type": "display_data"
    },
    {
     "data": {
      "application/vnd.jupyter.widget-view+json": {
       "model_id": "34eb604baaf244978384b4396ae21df2",
       "version_major": 2,
       "version_minor": 0
      },
      "text/plain": [
       "Loading checkpoint shards:   0%|          | 0/2 [00:00<?, ?it/s]"
      ]
     },
     "metadata": {},
     "output_type": "display_data"
    },
    {
     "name": "stderr",
     "output_type": "stream",
     "text": [
      "Generating Images:   0%|          | 0/5 [00:00<?, ?it/s]"
     ]
    },
    {
     "name": "stdout",
     "output_type": "stream",
     "text": [
      "a photo taken from behind of a American Wirehair cat next to the cabinet, looking to the right. The cat has realistic fur textures, intricate details, and sharp features, with soft lighting and a clear focus. The image has a shallow depth of field, emphasizing the cat in fine detail. 8k, cinematic, photorealistic\n"
     ]
    },
    {
     "data": {
      "application/vnd.jupyter.widget-view+json": {
       "model_id": "fb96c5d9c60a4fc58cec17c7c682bd2d",
       "version_major": 2,
       "version_minor": 0
      },
      "text/plain": [
       "  0%|          | 0/4 [00:00<?, ?it/s]"
      ]
     },
     "metadata": {},
     "output_type": "display_data"
    },
    {
     "name": "stderr",
     "output_type": "stream",
     "text": [
      "Generating Images:  20%|██        | 1/5 [00:00<00:03,  1.03it/s]"
     ]
    },
    {
     "name": "stdout",
     "output_type": "stream",
     "text": [
      "a photo taken from behind of a Bambino cat on the vanity, looking down and to the right. The cat has realistic fur textures, intricate details, and sharp features, with soft lighting and a clear focus. The image has a shallow depth of field, emphasizing the cat in fine detail. 8k, cinematic, photorealistic\n"
     ]
    },
    {
     "data": {
      "application/vnd.jupyter.widget-view+json": {
       "model_id": "96a98802bb504b898714c4d6db0d046e",
       "version_major": 2,
       "version_minor": 0
      },
      "text/plain": [
       "  0%|          | 0/4 [00:00<?, ?it/s]"
      ]
     },
     "metadata": {},
     "output_type": "display_data"
    },
    {
     "name": "stderr",
     "output_type": "stream",
     "text": [
      "Generating Images:  40%|████      | 2/5 [00:02<00:03,  1.08s/it]"
     ]
    },
    {
     "name": "stdout",
     "output_type": "stream",
     "text": [
      "a photo taken from below of a Japanese Bobtail cat next to the coffee table, looking down. The cat has realistic fur textures, intricate details, and sharp features, with soft lighting and a clear focus. The image has a shallow depth of field, emphasizing the cat in fine detail. 8k, cinematic, photorealistic\n"
     ]
    },
    {
     "data": {
      "application/vnd.jupyter.widget-view+json": {
       "model_id": "d99738addee8435ab7319cec12f3c26d",
       "version_major": 2,
       "version_minor": 0
      },
      "text/plain": [
       "  0%|          | 0/4 [00:00<?, ?it/s]"
      ]
     },
     "metadata": {},
     "output_type": "display_data"
    },
    {
     "name": "stderr",
     "output_type": "stream",
     "text": [
      "Generating Images:  60%|██████    | 3/5 [00:03<00:02,  1.03s/it]"
     ]
    },
    {
     "name": "stdout",
     "output_type": "stream",
     "text": [
      "a photo taken from below of a Javanese cat in front of the side table, looking down. The cat has realistic fur textures, intricate details, and sharp features, with soft lighting and a clear focus. The image has a shallow depth of field, emphasizing the cat in fine detail. 8k, cinematic, photorealistic\n"
     ]
    },
    {
     "data": {
      "application/vnd.jupyter.widget-view+json": {
       "model_id": "7ef4c98dabe74534869015fd34d90729",
       "version_major": 2,
       "version_minor": 0
      },
      "text/plain": [
       "  0%|          | 0/4 [00:00<?, ?it/s]"
      ]
     },
     "metadata": {},
     "output_type": "display_data"
    },
    {
     "name": "stderr",
     "output_type": "stream",
     "text": [
      "Generating Images:  80%|████████  | 4/5 [00:04<00:00,  1.00it/s]"
     ]
    },
    {
     "name": "stdout",
     "output_type": "stream",
     "text": [
      "a photo taken from above of a Abyssinian cat beside the pond, eyes closed. The cat has realistic fur textures, intricate details, and sharp features, with soft lighting and a clear focus. The image has a shallow depth of field, emphasizing the cat in fine detail. 8k, cinematic, photorealistic\n"
     ]
    },
    {
     "data": {
      "application/vnd.jupyter.widget-view+json": {
       "model_id": "71fadbea60e6426a98fe011101508ecf",
       "version_major": 2,
       "version_minor": 0
      },
      "text/plain": [
       "  0%|          | 0/4 [00:00<?, ?it/s]"
      ]
     },
     "metadata": {},
     "output_type": "display_data"
    },
    {
     "name": "stderr",
     "output_type": "stream",
     "text": [
      "Generating Images: 100%|██████████| 5/5 [00:05<00:00,  1.00s/it]"
     ]
    },
    {
     "name": "stdout",
     "output_type": "stream",
     "text": [
      "Generated 5 images and saved them in FLUX.1-schnell.\n"
     ]
    },
    {
     "name": "stderr",
     "output_type": "stream",
     "text": [
      "\n"
     ]
    }
   ],
   "source": [
    "from diffusers import FluxPipeline\n",
    "\n",
    "pipe = FluxPipeline.from_pretrained(\n",
    "    \"black-forest-labs/FLUX.1-schnell\", torch_dtype=torch.bfloat16\n",
    ")\n",
    "pipe = pipe.to(\"cuda\")\n",
    "make_img(\"FLUX.1-schnell\")"
   ]
  },
  {
   "cell_type": "code",
   "execution_count": 37,
   "id": "d288055e-d239-47eb-81c0-83b4f32d963e",
   "metadata": {},
   "outputs": [
    {
     "data": {
      "application/vnd.jupyter.widget-view+json": {
       "model_id": "bddd7e44ebef4d5ab3ea0a02d7f16b02",
       "version_major": 2,
       "version_minor": 0
      },
      "text/plain": [
       "Loading pipeline components...:   0%|          | 0/7 [00:00<?, ?it/s]"
      ]
     },
     "metadata": {},
     "output_type": "display_data"
    },
    {
     "data": {
      "application/vnd.jupyter.widget-view+json": {
       "model_id": "6a0637f4e9f34fb28f84c19e8c58b279",
       "version_major": 2,
       "version_minor": 0
      },
      "text/plain": [
       "Loading checkpoint shards:   0%|          | 0/2 [00:00<?, ?it/s]"
      ]
     },
     "metadata": {},
     "output_type": "display_data"
    },
    {
     "name": "stderr",
     "output_type": "stream",
     "text": [
      "Generating Images:   0%|          | 0/5 [00:00<?, ?it/s]"
     ]
    },
    {
     "name": "stdout",
     "output_type": "stream",
     "text": [
      "a photo taken from behind of a American Wirehair cat next to the cabinet, looking to the right. The cat has realistic fur textures, intricate details, and sharp features, with soft lighting and a clear focus. The image has a shallow depth of field, emphasizing the cat in fine detail. 8k, cinematic, photorealistic\n"
     ]
    },
    {
     "data": {
      "application/vnd.jupyter.widget-view+json": {
       "model_id": "5cf8a90e46d044a59e38b095762fafc9",
       "version_major": 2,
       "version_minor": 0
      },
      "text/plain": [
       "  0%|          | 0/50 [00:00<?, ?it/s]"
      ]
     },
     "metadata": {},
     "output_type": "display_data"
    },
    {
     "name": "stderr",
     "output_type": "stream",
     "text": [
      "Generating Images:  20%|██        | 1/5 [00:08<00:34,  8.65s/it]"
     ]
    },
    {
     "name": "stdout",
     "output_type": "stream",
     "text": [
      "a photo taken from behind of a Bambino cat on the vanity, looking down and to the right. The cat has realistic fur textures, intricate details, and sharp features, with soft lighting and a clear focus. The image has a shallow depth of field, emphasizing the cat in fine detail. 8k, cinematic, photorealistic\n"
     ]
    },
    {
     "data": {
      "application/vnd.jupyter.widget-view+json": {
       "model_id": "e6282c70a0694ec6949bb023a2e7e0fd",
       "version_major": 2,
       "version_minor": 0
      },
      "text/plain": [
       "  0%|          | 0/50 [00:00<?, ?it/s]"
      ]
     },
     "metadata": {},
     "output_type": "display_data"
    },
    {
     "name": "stderr",
     "output_type": "stream",
     "text": [
      "Generating Images:  40%|████      | 2/5 [00:17<00:25,  8.64s/it]"
     ]
    },
    {
     "name": "stdout",
     "output_type": "stream",
     "text": [
      "a photo taken from below of a Japanese Bobtail cat next to the coffee table, looking down. The cat has realistic fur textures, intricate details, and sharp features, with soft lighting and a clear focus. The image has a shallow depth of field, emphasizing the cat in fine detail. 8k, cinematic, photorealistic\n"
     ]
    },
    {
     "data": {
      "application/vnd.jupyter.widget-view+json": {
       "model_id": "9d16e95cc29e4b5c9b76af9abf7e2d78",
       "version_major": 2,
       "version_minor": 0
      },
      "text/plain": [
       "  0%|          | 0/50 [00:00<?, ?it/s]"
      ]
     },
     "metadata": {},
     "output_type": "display_data"
    },
    {
     "name": "stderr",
     "output_type": "stream",
     "text": [
      "Generating Images:  60%|██████    | 3/5 [00:25<00:17,  8.64s/it]"
     ]
    },
    {
     "name": "stdout",
     "output_type": "stream",
     "text": [
      "a photo taken from below of a Javanese cat in front of the side table, looking down. The cat has realistic fur textures, intricate details, and sharp features, with soft lighting and a clear focus. The image has a shallow depth of field, emphasizing the cat in fine detail. 8k, cinematic, photorealistic\n"
     ]
    },
    {
     "data": {
      "application/vnd.jupyter.widget-view+json": {
       "model_id": "7d112455ea8543f18437e8ab38c4ab9b",
       "version_major": 2,
       "version_minor": 0
      },
      "text/plain": [
       "  0%|          | 0/50 [00:00<?, ?it/s]"
      ]
     },
     "metadata": {},
     "output_type": "display_data"
    },
    {
     "name": "stderr",
     "output_type": "stream",
     "text": [
      "Generating Images:  80%|████████  | 4/5 [00:34<00:08,  8.64s/it]"
     ]
    },
    {
     "name": "stdout",
     "output_type": "stream",
     "text": [
      "a photo taken from above of a Abyssinian cat beside the pond, eyes closed. The cat has realistic fur textures, intricate details, and sharp features, with soft lighting and a clear focus. The image has a shallow depth of field, emphasizing the cat in fine detail. 8k, cinematic, photorealistic\n"
     ]
    },
    {
     "data": {
      "application/vnd.jupyter.widget-view+json": {
       "model_id": "1cf11b1cd3d1472cbf5d7cb969ddd298",
       "version_major": 2,
       "version_minor": 0
      },
      "text/plain": [
       "  0%|          | 0/50 [00:00<?, ?it/s]"
      ]
     },
     "metadata": {},
     "output_type": "display_data"
    },
    {
     "name": "stderr",
     "output_type": "stream",
     "text": [
      "Generating Images: 100%|██████████| 5/5 [00:43<00:00,  8.66s/it]"
     ]
    },
    {
     "name": "stdout",
     "output_type": "stream",
     "text": [
      "Generated 5 images and saved them in FLUX.1-dev.\n"
     ]
    },
    {
     "name": "stderr",
     "output_type": "stream",
     "text": [
      "\n"
     ]
    }
   ],
   "source": [
    "from diffusers import FluxPipeline\n",
    "\n",
    "pipe = FluxPipeline.from_pretrained(\n",
    "    \"black-forest-labs/FLUX.1-dev\", torch_dtype=torch.bfloat16\n",
    ")\n",
    "pipe = pipe.to(\"cuda\")\n",
    "make_img(\"FLUX.1-dev\", 50, 3.5)"
   ]
  },
  {
   "cell_type": "code",
   "execution_count": 38,
   "id": "8c6c22a9-67fc-4185-ae7d-e4dadaf1fd6d",
   "metadata": {},
   "outputs": [
    {
     "data": {
      "application/vnd.jupyter.widget-view+json": {
       "model_id": "442e8e961a224e8eb6f2a6c7a433809f",
       "version_major": 2,
       "version_minor": 0
      },
      "text/plain": [
       "Loading pipeline components...:   0%|          | 0/9 [00:00<?, ?it/s]"
      ]
     },
     "metadata": {},
     "output_type": "display_data"
    },
    {
     "data": {
      "application/vnd.jupyter.widget-view+json": {
       "model_id": "2a32a54977764346b4733f7ab48835ce",
       "version_major": 2,
       "version_minor": 0
      },
      "text/plain": [
       "Loading checkpoint shards:   0%|          | 0/2 [00:00<?, ?it/s]"
      ]
     },
     "metadata": {},
     "output_type": "display_data"
    },
    {
     "name": "stderr",
     "output_type": "stream",
     "text": [
      "Generating Images:   0%|          | 0/5 [00:00<?, ?it/s]"
     ]
    },
    {
     "name": "stdout",
     "output_type": "stream",
     "text": [
      "a photo taken from behind of a American Wirehair cat next to the cabinet, looking to the right. The cat has realistic fur textures, intricate details, and sharp features, with soft lighting and a clear focus. The image has a shallow depth of field, emphasizing the cat in fine detail. 8k, cinematic, photorealistic\n"
     ]
    },
    {
     "data": {
      "application/vnd.jupyter.widget-view+json": {
       "model_id": "09734d94bc204b9a88ba981996915586",
       "version_major": 2,
       "version_minor": 0
      },
      "text/plain": [
       "  0%|          | 0/28 [00:00<?, ?it/s]"
      ]
     },
     "metadata": {},
     "output_type": "display_data"
    },
    {
     "name": "stderr",
     "output_type": "stream",
     "text": [
      "Generating Images:  20%|██        | 1/5 [00:04<00:17,  4.30s/it]"
     ]
    },
    {
     "name": "stdout",
     "output_type": "stream",
     "text": [
      "a photo taken from behind of a Bambino cat on the vanity, looking down and to the right. The cat has realistic fur textures, intricate details, and sharp features, with soft lighting and a clear focus. The image has a shallow depth of field, emphasizing the cat in fine detail. 8k, cinematic, photorealistic\n"
     ]
    },
    {
     "data": {
      "application/vnd.jupyter.widget-view+json": {
       "model_id": "4fdcc3e0022f43d797c4673ef131d4a5",
       "version_major": 2,
       "version_minor": 0
      },
      "text/plain": [
       "  0%|          | 0/28 [00:00<?, ?it/s]"
      ]
     },
     "metadata": {},
     "output_type": "display_data"
    },
    {
     "name": "stderr",
     "output_type": "stream",
     "text": [
      "Generating Images:  40%|████      | 2/5 [00:08<00:12,  4.29s/it]"
     ]
    },
    {
     "name": "stdout",
     "output_type": "stream",
     "text": [
      "a photo taken from below of a Japanese Bobtail cat next to the coffee table, looking down. The cat has realistic fur textures, intricate details, and sharp features, with soft lighting and a clear focus. The image has a shallow depth of field, emphasizing the cat in fine detail. 8k, cinematic, photorealistic\n"
     ]
    },
    {
     "data": {
      "application/vnd.jupyter.widget-view+json": {
       "model_id": "06050c379608409ba22ff2ae4ec3aa45",
       "version_major": 2,
       "version_minor": 0
      },
      "text/plain": [
       "  0%|          | 0/28 [00:00<?, ?it/s]"
      ]
     },
     "metadata": {},
     "output_type": "display_data"
    },
    {
     "name": "stderr",
     "output_type": "stream",
     "text": [
      "Generating Images:  60%|██████    | 3/5 [00:12<00:08,  4.29s/it]"
     ]
    },
    {
     "name": "stdout",
     "output_type": "stream",
     "text": [
      "a photo taken from below of a Javanese cat in front of the side table, looking down. The cat has realistic fur textures, intricate details, and sharp features, with soft lighting and a clear focus. The image has a shallow depth of field, emphasizing the cat in fine detail. 8k, cinematic, photorealistic\n"
     ]
    },
    {
     "data": {
      "application/vnd.jupyter.widget-view+json": {
       "model_id": "2f0de53afd694910b06717916bd2caf4",
       "version_major": 2,
       "version_minor": 0
      },
      "text/plain": [
       "  0%|          | 0/28 [00:00<?, ?it/s]"
      ]
     },
     "metadata": {},
     "output_type": "display_data"
    },
    {
     "name": "stderr",
     "output_type": "stream",
     "text": [
      "Generating Images:  80%|████████  | 4/5 [00:17<00:04,  4.28s/it]"
     ]
    },
    {
     "name": "stdout",
     "output_type": "stream",
     "text": [
      "a photo taken from above of a Abyssinian cat beside the pond, eyes closed. The cat has realistic fur textures, intricate details, and sharp features, with soft lighting and a clear focus. The image has a shallow depth of field, emphasizing the cat in fine detail. 8k, cinematic, photorealistic\n"
     ]
    },
    {
     "data": {
      "application/vnd.jupyter.widget-view+json": {
       "model_id": "e2b3885682c44ceeb79f927961f79659",
       "version_major": 2,
       "version_minor": 0
      },
      "text/plain": [
       "  0%|          | 0/28 [00:00<?, ?it/s]"
      ]
     },
     "metadata": {},
     "output_type": "display_data"
    },
    {
     "name": "stderr",
     "output_type": "stream",
     "text": [
      "Generating Images: 100%|██████████| 5/5 [00:21<00:00,  4.29s/it]"
     ]
    },
    {
     "name": "stdout",
     "output_type": "stream",
     "text": [
      "Generated 5 images and saved them in stable-diffusion-3.5-large.\n"
     ]
    },
    {
     "name": "stderr",
     "output_type": "stream",
     "text": [
      "\n"
     ]
    }
   ],
   "source": [
    "from diffusers import StableDiffusion3Pipeline\n",
    "\n",
    "pipe = StableDiffusion3Pipeline.from_pretrained(\n",
    "    \"stabilityai/stable-diffusion-3.5-large\", torch_dtype=torch.bfloat16\n",
    ")\n",
    "pipe = pipe.to(\"cuda\")\n",
    "make_img(\"stable-diffusion-3.5-large\", 28, 3.5)"
   ]
  },
  {
   "cell_type": "code",
   "execution_count": 39,
   "id": "ae3bb298-b5c7-421f-95ad-ce2a048105cd",
   "metadata": {},
   "outputs": [
    {
     "data": {
      "application/vnd.jupyter.widget-view+json": {
       "model_id": "17152d0ff4f743469b015b740aed24a2",
       "version_major": 2,
       "version_minor": 0
      },
      "text/plain": [
       "Loading pipeline components...:   0%|          | 0/9 [00:00<?, ?it/s]"
      ]
     },
     "metadata": {},
     "output_type": "display_data"
    },
    {
     "data": {
      "application/vnd.jupyter.widget-view+json": {
       "model_id": "bdedea7470ce42a685818f90b0052136",
       "version_major": 2,
       "version_minor": 0
      },
      "text/plain": [
       "Loading checkpoint shards:   0%|          | 0/2 [00:00<?, ?it/s]"
      ]
     },
     "metadata": {},
     "output_type": "display_data"
    },
    {
     "name": "stderr",
     "output_type": "stream",
     "text": [
      "Generating Images:   0%|          | 0/5 [00:00<?, ?it/s]"
     ]
    },
    {
     "name": "stdout",
     "output_type": "stream",
     "text": [
      "a photo taken from behind of a American Wirehair cat next to the cabinet, looking to the right. The cat has realistic fur textures, intricate details, and sharp features, with soft lighting and a clear focus. The image has a shallow depth of field, emphasizing the cat in fine detail. 8k, cinematic, photorealistic\n"
     ]
    },
    {
     "data": {
      "application/vnd.jupyter.widget-view+json": {
       "model_id": "b4276b56adee487aa82453f6d1da0d6b",
       "version_major": 2,
       "version_minor": 0
      },
      "text/plain": [
       "  0%|          | 0/40 [00:00<?, ?it/s]"
      ]
     },
     "metadata": {},
     "output_type": "display_data"
    },
    {
     "name": "stderr",
     "output_type": "stream",
     "text": [
      "Generating Images:  20%|██        | 1/5 [00:02<00:10,  2.55s/it]"
     ]
    },
    {
     "name": "stdout",
     "output_type": "stream",
     "text": [
      "a photo taken from behind of a Bambino cat on the vanity, looking down and to the right. The cat has realistic fur textures, intricate details, and sharp features, with soft lighting and a clear focus. The image has a shallow depth of field, emphasizing the cat in fine detail. 8k, cinematic, photorealistic\n"
     ]
    },
    {
     "data": {
      "application/vnd.jupyter.widget-view+json": {
       "model_id": "e5a7928b675a4e5c96799332daa142b8",
       "version_major": 2,
       "version_minor": 0
      },
      "text/plain": [
       "  0%|          | 0/40 [00:00<?, ?it/s]"
      ]
     },
     "metadata": {},
     "output_type": "display_data"
    },
    {
     "name": "stderr",
     "output_type": "stream",
     "text": [
      "Generating Images:  40%|████      | 2/5 [00:05<00:07,  2.55s/it]"
     ]
    },
    {
     "name": "stdout",
     "output_type": "stream",
     "text": [
      "a photo taken from below of a Japanese Bobtail cat next to the coffee table, looking down. The cat has realistic fur textures, intricate details, and sharp features, with soft lighting and a clear focus. The image has a shallow depth of field, emphasizing the cat in fine detail. 8k, cinematic, photorealistic\n"
     ]
    },
    {
     "data": {
      "application/vnd.jupyter.widget-view+json": {
       "model_id": "889114f0bf574f52a089631baac91036",
       "version_major": 2,
       "version_minor": 0
      },
      "text/plain": [
       "  0%|          | 0/40 [00:00<?, ?it/s]"
      ]
     },
     "metadata": {},
     "output_type": "display_data"
    },
    {
     "name": "stderr",
     "output_type": "stream",
     "text": [
      "Generating Images:  60%|██████    | 3/5 [00:07<00:05,  2.54s/it]"
     ]
    },
    {
     "name": "stdout",
     "output_type": "stream",
     "text": [
      "a photo taken from below of a Javanese cat in front of the side table, looking down. The cat has realistic fur textures, intricate details, and sharp features, with soft lighting and a clear focus. The image has a shallow depth of field, emphasizing the cat in fine detail. 8k, cinematic, photorealistic\n"
     ]
    },
    {
     "data": {
      "application/vnd.jupyter.widget-view+json": {
       "model_id": "b5466cd455b646ebbe69d843b7d65e68",
       "version_major": 2,
       "version_minor": 0
      },
      "text/plain": [
       "  0%|          | 0/40 [00:00<?, ?it/s]"
      ]
     },
     "metadata": {},
     "output_type": "display_data"
    },
    {
     "name": "stderr",
     "output_type": "stream",
     "text": [
      "Generating Images:  80%|████████  | 4/5 [00:10<00:02,  2.54s/it]"
     ]
    },
    {
     "name": "stdout",
     "output_type": "stream",
     "text": [
      "a photo taken from above of a Abyssinian cat beside the pond, eyes closed. The cat has realistic fur textures, intricate details, and sharp features, with soft lighting and a clear focus. The image has a shallow depth of field, emphasizing the cat in fine detail. 8k, cinematic, photorealistic\n"
     ]
    },
    {
     "data": {
      "application/vnd.jupyter.widget-view+json": {
       "model_id": "d7a8771d71fa4c03aa0268155af5f760",
       "version_major": 2,
       "version_minor": 0
      },
      "text/plain": [
       "  0%|          | 0/40 [00:00<?, ?it/s]"
      ]
     },
     "metadata": {},
     "output_type": "display_data"
    },
    {
     "name": "stderr",
     "output_type": "stream",
     "text": [
      "Generating Images: 100%|██████████| 5/5 [00:12<00:00,  2.54s/it]"
     ]
    },
    {
     "name": "stdout",
     "output_type": "stream",
     "text": [
      "Generated 5 images and saved them in stable-diffusion-3.5-medium.\n"
     ]
    },
    {
     "name": "stderr",
     "output_type": "stream",
     "text": [
      "\n"
     ]
    }
   ],
   "source": [
    "import torch\n",
    "from diffusers import StableDiffusion3Pipeline\n",
    "\n",
    "pipe = StableDiffusion3Pipeline.from_pretrained(\n",
    "    \"stabilityai/stable-diffusion-3.5-medium\", torch_dtype=torch.bfloat16\n",
    ")\n",
    "pipe = pipe.to(\"cuda\")\n",
    "\n",
    "make_img(\"stable-diffusion-3.5-medium\", 40, 4.5)"
   ]
  },
  {
   "cell_type": "code",
   "execution_count": 40,
   "id": "449f9ac8-ebab-4d00-b56c-9b1a5f15af28",
   "metadata": {},
   "outputs": [
    {
     "data": {
      "application/vnd.jupyter.widget-view+json": {
       "model_id": "dd808b166a5a40dd9a284783a9a47b47",
       "version_major": 2,
       "version_minor": 0
      },
      "text/plain": [
       "Loading pipeline components...:   0%|          | 0/9 [00:00<?, ?it/s]"
      ]
     },
     "metadata": {},
     "output_type": "display_data"
    },
    {
     "data": {
      "application/vnd.jupyter.widget-view+json": {
       "model_id": "8948c83dc5204f05b8f05cefea2b597a",
       "version_major": 2,
       "version_minor": 0
      },
      "text/plain": [
       "Loading checkpoint shards:   0%|          | 0/2 [00:00<?, ?it/s]"
      ]
     },
     "metadata": {},
     "output_type": "display_data"
    },
    {
     "name": "stderr",
     "output_type": "stream",
     "text": [
      "Generating Images:   0%|          | 0/5 [00:00<?, ?it/s]"
     ]
    },
    {
     "name": "stdout",
     "output_type": "stream",
     "text": [
      "a photo taken from behind of a American Wirehair cat next to the cabinet, looking to the right. The cat has realistic fur textures, intricate details, and sharp features, with soft lighting and a clear focus. The image has a shallow depth of field, emphasizing the cat in fine detail. 8k, cinematic, photorealistic\n"
     ]
    },
    {
     "data": {
      "application/vnd.jupyter.widget-view+json": {
       "model_id": "38679859f60b49d8936b041c8d4c161d",
       "version_major": 2,
       "version_minor": 0
      },
      "text/plain": [
       "  0%|          | 0/28 [00:00<?, ?it/s]"
      ]
     },
     "metadata": {},
     "output_type": "display_data"
    },
    {
     "name": "stderr",
     "output_type": "stream",
     "text": [
      "Generating Images:  20%|██        | 1/5 [00:01<00:05,  1.45s/it]"
     ]
    },
    {
     "name": "stdout",
     "output_type": "stream",
     "text": [
      "a photo taken from behind of a Bambino cat on the vanity, looking down and to the right. The cat has realistic fur textures, intricate details, and sharp features, with soft lighting and a clear focus. The image has a shallow depth of field, emphasizing the cat in fine detail. 8k, cinematic, photorealistic\n"
     ]
    },
    {
     "data": {
      "application/vnd.jupyter.widget-view+json": {
       "model_id": "b5f1c34bb5204c5ab80fd59de6e3ce3d",
       "version_major": 2,
       "version_minor": 0
      },
      "text/plain": [
       "  0%|          | 0/28 [00:00<?, ?it/s]"
      ]
     },
     "metadata": {},
     "output_type": "display_data"
    },
    {
     "name": "stderr",
     "output_type": "stream",
     "text": [
      "Generating Images:  40%|████      | 2/5 [00:02<00:04,  1.44s/it]"
     ]
    },
    {
     "name": "stdout",
     "output_type": "stream",
     "text": [
      "a photo taken from below of a Japanese Bobtail cat next to the coffee table, looking down. The cat has realistic fur textures, intricate details, and sharp features, with soft lighting and a clear focus. The image has a shallow depth of field, emphasizing the cat in fine detail. 8k, cinematic, photorealistic\n"
     ]
    },
    {
     "data": {
      "application/vnd.jupyter.widget-view+json": {
       "model_id": "206deaa14751477490fab7b1df33b34c",
       "version_major": 2,
       "version_minor": 0
      },
      "text/plain": [
       "  0%|          | 0/28 [00:00<?, ?it/s]"
      ]
     },
     "metadata": {},
     "output_type": "display_data"
    },
    {
     "name": "stderr",
     "output_type": "stream",
     "text": [
      "Generating Images:  60%|██████    | 3/5 [00:04<00:02,  1.43s/it]"
     ]
    },
    {
     "name": "stdout",
     "output_type": "stream",
     "text": [
      "a photo taken from below of a Javanese cat in front of the side table, looking down. The cat has realistic fur textures, intricate details, and sharp features, with soft lighting and a clear focus. The image has a shallow depth of field, emphasizing the cat in fine detail. 8k, cinematic, photorealistic\n"
     ]
    },
    {
     "data": {
      "application/vnd.jupyter.widget-view+json": {
       "model_id": "2fd8de849711416180d80b75a13e2369",
       "version_major": 2,
       "version_minor": 0
      },
      "text/plain": [
       "  0%|          | 0/28 [00:00<?, ?it/s]"
      ]
     },
     "metadata": {},
     "output_type": "display_data"
    },
    {
     "name": "stderr",
     "output_type": "stream",
     "text": [
      "Generating Images:  80%|████████  | 4/5 [00:05<00:01,  1.43s/it]"
     ]
    },
    {
     "name": "stdout",
     "output_type": "stream",
     "text": [
      "a photo taken from above of a Abyssinian cat beside the pond, eyes closed. The cat has realistic fur textures, intricate details, and sharp features, with soft lighting and a clear focus. The image has a shallow depth of field, emphasizing the cat in fine detail. 8k, cinematic, photorealistic\n"
     ]
    },
    {
     "data": {
      "application/vnd.jupyter.widget-view+json": {
       "model_id": "0907c09f2395443395b26f00aba78ecf",
       "version_major": 2,
       "version_minor": 0
      },
      "text/plain": [
       "  0%|          | 0/28 [00:00<?, ?it/s]"
      ]
     },
     "metadata": {},
     "output_type": "display_data"
    },
    {
     "name": "stderr",
     "output_type": "stream",
     "text": [
      "Generating Images: 100%|██████████| 5/5 [00:07<00:00,  1.43s/it]"
     ]
    },
    {
     "name": "stdout",
     "output_type": "stream",
     "text": [
      "Generated 5 images and saved them in stable-diffusion-3-medium-diffusers.\n"
     ]
    },
    {
     "name": "stderr",
     "output_type": "stream",
     "text": [
      "\n"
     ]
    }
   ],
   "source": [
    "import torch\n",
    "from diffusers import StableDiffusion3Pipeline\n",
    "\n",
    "pipe = StableDiffusion3Pipeline.from_pretrained(\n",
    "    \"stabilityai/stable-diffusion-3-medium-diffusers\", torch_dtype=torch.float16\n",
    ")\n",
    "pipe = pipe.to(\"cuda\")\n",
    "\n",
    "make_img(\"stable-diffusion-3-medium-diffusers\", 28, 7)"
   ]
  },
  {
   "cell_type": "code",
   "execution_count": 41,
   "id": "28fed9e8-fb70-4c82-b512-25f2ffa60868",
   "metadata": {},
   "outputs": [
    {
     "data": {
      "application/vnd.jupyter.widget-view+json": {
       "model_id": "db0893fafcca4aec9bfbdd81198ae88b",
       "version_major": 2,
       "version_minor": 0
      },
      "text/plain": [
       "Loading pipeline components...:   0%|          | 0/7 [00:00<?, ?it/s]"
      ]
     },
     "metadata": {},
     "output_type": "display_data"
    },
    {
     "name": "stderr",
     "output_type": "stream",
     "text": [
      "Generating Images:   0%|          | 0/5 [00:00<?, ?it/s]"
     ]
    },
    {
     "name": "stdout",
     "output_type": "stream",
     "text": [
      "a photo taken from behind of a American Wirehair cat next to the cabinet, looking to the right. The cat has realistic fur textures, intricate details, and sharp features, with soft lighting and a clear focus. The image has a shallow depth of field, emphasizing the cat in fine detail. 8k, cinematic, photorealistic\n"
     ]
    },
    {
     "data": {
      "application/vnd.jupyter.widget-view+json": {
       "model_id": "aa12fe90688b417b9d25ca391e66e527",
       "version_major": 2,
       "version_minor": 0
      },
      "text/plain": [
       "  0%|          | 0/28 [00:00<?, ?it/s]"
      ]
     },
     "metadata": {},
     "output_type": "display_data"
    },
    {
     "name": "stderr",
     "output_type": "stream",
     "text": [
      "Generating Images:  20%|██        | 1/5 [00:02<00:09,  2.48s/it]"
     ]
    },
    {
     "name": "stdout",
     "output_type": "stream",
     "text": [
      "a photo taken from behind of a Bambino cat on the vanity, looking down and to the right. The cat has realistic fur textures, intricate details, and sharp features, with soft lighting and a clear focus. The image has a shallow depth of field, emphasizing the cat in fine detail. 8k, cinematic, photorealistic\n"
     ]
    },
    {
     "data": {
      "application/vnd.jupyter.widget-view+json": {
       "model_id": "7e6773664bb044dba47d0972b74d0ef5",
       "version_major": 2,
       "version_minor": 0
      },
      "text/plain": [
       "  0%|          | 0/28 [00:00<?, ?it/s]"
      ]
     },
     "metadata": {},
     "output_type": "display_data"
    },
    {
     "name": "stderr",
     "output_type": "stream",
     "text": [
      "Generating Images:  40%|████      | 2/5 [00:05<00:07,  2.53s/it]"
     ]
    },
    {
     "name": "stdout",
     "output_type": "stream",
     "text": [
      "a photo taken from below of a Japanese Bobtail cat next to the coffee table, looking down. The cat has realistic fur textures, intricate details, and sharp features, with soft lighting and a clear focus. The image has a shallow depth of field, emphasizing the cat in fine detail. 8k, cinematic, photorealistic\n"
     ]
    },
    {
     "data": {
      "application/vnd.jupyter.widget-view+json": {
       "model_id": "c279e3008b8e4914b59a0fdc1d5736ad",
       "version_major": 2,
       "version_minor": 0
      },
      "text/plain": [
       "  0%|          | 0/28 [00:00<?, ?it/s]"
      ]
     },
     "metadata": {},
     "output_type": "display_data"
    },
    {
     "name": "stderr",
     "output_type": "stream",
     "text": [
      "Generating Images:  60%|██████    | 3/5 [00:07<00:04,  2.49s/it]"
     ]
    },
    {
     "name": "stdout",
     "output_type": "stream",
     "text": [
      "a photo taken from below of a Javanese cat in front of the side table, looking down. The cat has realistic fur textures, intricate details, and sharp features, with soft lighting and a clear focus. The image has a shallow depth of field, emphasizing the cat in fine detail. 8k, cinematic, photorealistic\n"
     ]
    },
    {
     "data": {
      "application/vnd.jupyter.widget-view+json": {
       "model_id": "694dddc0eb0546db80e038f629141ae8",
       "version_major": 2,
       "version_minor": 0
      },
      "text/plain": [
       "  0%|          | 0/28 [00:00<?, ?it/s]"
      ]
     },
     "metadata": {},
     "output_type": "display_data"
    },
    {
     "name": "stderr",
     "output_type": "stream",
     "text": [
      "Generating Images:  80%|████████  | 4/5 [00:09<00:02,  2.47s/it]"
     ]
    },
    {
     "name": "stdout",
     "output_type": "stream",
     "text": [
      "a photo taken from above of a Abyssinian cat beside the pond, eyes closed. The cat has realistic fur textures, intricate details, and sharp features, with soft lighting and a clear focus. The image has a shallow depth of field, emphasizing the cat in fine detail. 8k, cinematic, photorealistic\n"
     ]
    },
    {
     "data": {
      "application/vnd.jupyter.widget-view+json": {
       "model_id": "b58aebf0726047699e8d285774a078b5",
       "version_major": 2,
       "version_minor": 0
      },
      "text/plain": [
       "  0%|          | 0/28 [00:00<?, ?it/s]"
      ]
     },
     "metadata": {},
     "output_type": "display_data"
    },
    {
     "name": "stderr",
     "output_type": "stream",
     "text": [
      "Generating Images: 100%|██████████| 5/5 [00:12<00:00,  2.47s/it]"
     ]
    },
    {
     "name": "stdout",
     "output_type": "stream",
     "text": [
      "Generated 5 images and saved them in stable-diffusion-xl-base-1.0.\n"
     ]
    },
    {
     "name": "stderr",
     "output_type": "stream",
     "text": [
      "\n"
     ]
    }
   ],
   "source": [
    "pipe = DiffusionPipeline.from_pretrained(\n",
    "    \"stabilityai/stable-diffusion-xl-base-1.0\",\n",
    "    torch_dtype=torch.float16,\n",
    "    use_safetensors=True,\n",
    "    variant=\"fp16\",\n",
    ")\n",
    "pipe.to(\"cuda\")\n",
    "make_img(\"stable-diffusion-xl-base-1.0\", 28, 7)"
   ]
  },
  {
   "cell_type": "code",
   "execution_count": 42,
   "id": "3839c219-3486-4e4e-9615-5cbc8266e91e",
   "metadata": {},
   "outputs": [
    {
     "data": {
      "application/vnd.jupyter.widget-view+json": {
       "model_id": "5fd5fd75a57a4874848d03ef2598479c",
       "version_major": 2,
       "version_minor": 0
      },
      "text/plain": [
       "Loading pipeline components...:   0%|          | 0/7 [00:00<?, ?it/s]"
      ]
     },
     "metadata": {},
     "output_type": "display_data"
    },
    {
     "name": "stderr",
     "output_type": "stream",
     "text": [
      "Generating Images:   0%|          | 0/5 [00:00<?, ?it/s]"
     ]
    },
    {
     "name": "stdout",
     "output_type": "stream",
     "text": [
      "a photo taken from behind of a American Wirehair cat next to the cabinet, looking to the right. The cat has realistic fur textures, intricate details, and sharp features, with soft lighting and a clear focus. The image has a shallow depth of field, emphasizing the cat in fine detail. 8k, cinematic, photorealistic\n"
     ]
    },
    {
     "data": {
      "application/vnd.jupyter.widget-view+json": {
       "model_id": "471a014928944e87bc2c306d12568426",
       "version_major": 2,
       "version_minor": 0
      },
      "text/plain": [
       "  0%|          | 0/1 [00:00<?, ?it/s]"
      ]
     },
     "metadata": {},
     "output_type": "display_data"
    },
    {
     "name": "stderr",
     "output_type": "stream",
     "text": [
      "Generating Images:  20%|██        | 1/5 [00:00<00:01,  2.90it/s]"
     ]
    },
    {
     "name": "stdout",
     "output_type": "stream",
     "text": [
      "a photo taken from behind of a Bambino cat on the vanity, looking down and to the right. The cat has realistic fur textures, intricate details, and sharp features, with soft lighting and a clear focus. The image has a shallow depth of field, emphasizing the cat in fine detail. 8k, cinematic, photorealistic\n"
     ]
    },
    {
     "data": {
      "application/vnd.jupyter.widget-view+json": {
       "model_id": "a60f5646fbbc487bb4f40db1a4057caf",
       "version_major": 2,
       "version_minor": 0
      },
      "text/plain": [
       "  0%|          | 0/1 [00:00<?, ?it/s]"
      ]
     },
     "metadata": {},
     "output_type": "display_data"
    },
    {
     "name": "stderr",
     "output_type": "stream",
     "text": [
      "Generating Images:  40%|████      | 2/5 [00:00<00:01,  2.95it/s]"
     ]
    },
    {
     "name": "stdout",
     "output_type": "stream",
     "text": [
      "a photo taken from below of a Japanese Bobtail cat next to the coffee table, looking down. The cat has realistic fur textures, intricate details, and sharp features, with soft lighting and a clear focus. The image has a shallow depth of field, emphasizing the cat in fine detail. 8k, cinematic, photorealistic\n"
     ]
    },
    {
     "data": {
      "application/vnd.jupyter.widget-view+json": {
       "model_id": "c1154c625b104553b1e235c197974b1d",
       "version_major": 2,
       "version_minor": 0
      },
      "text/plain": [
       "  0%|          | 0/1 [00:00<?, ?it/s]"
      ]
     },
     "metadata": {},
     "output_type": "display_data"
    },
    {
     "name": "stderr",
     "output_type": "stream",
     "text": [
      "Generating Images:  60%|██████    | 3/5 [00:01<00:00,  3.00it/s]"
     ]
    },
    {
     "name": "stdout",
     "output_type": "stream",
     "text": [
      "a photo taken from below of a Javanese cat in front of the side table, looking down. The cat has realistic fur textures, intricate details, and sharp features, with soft lighting and a clear focus. The image has a shallow depth of field, emphasizing the cat in fine detail. 8k, cinematic, photorealistic\n"
     ]
    },
    {
     "data": {
      "application/vnd.jupyter.widget-view+json": {
       "model_id": "39cb06d9c40648998c82e5369db395e7",
       "version_major": 2,
       "version_minor": 0
      },
      "text/plain": [
       "  0%|          | 0/1 [00:00<?, ?it/s]"
      ]
     },
     "metadata": {},
     "output_type": "display_data"
    },
    {
     "name": "stderr",
     "output_type": "stream",
     "text": [
      "Generating Images:  80%|████████  | 4/5 [00:01<00:00,  3.04it/s]"
     ]
    },
    {
     "name": "stdout",
     "output_type": "stream",
     "text": [
      "a photo taken from above of a Abyssinian cat beside the pond, eyes closed. The cat has realistic fur textures, intricate details, and sharp features, with soft lighting and a clear focus. The image has a shallow depth of field, emphasizing the cat in fine detail. 8k, cinematic, photorealistic\n"
     ]
    },
    {
     "data": {
      "application/vnd.jupyter.widget-view+json": {
       "model_id": "4853e98c3adc45e8b34df61e17eb1ca5",
       "version_major": 2,
       "version_minor": 0
      },
      "text/plain": [
       "  0%|          | 0/1 [00:00<?, ?it/s]"
      ]
     },
     "metadata": {},
     "output_type": "display_data"
    },
    {
     "name": "stderr",
     "output_type": "stream",
     "text": [
      "Generating Images: 100%|██████████| 5/5 [00:01<00:00,  2.95it/s]"
     ]
    },
    {
     "name": "stdout",
     "output_type": "stream",
     "text": [
      "Generated 5 images and saved them in sdxl-turbo.\n"
     ]
    },
    {
     "name": "stderr",
     "output_type": "stream",
     "text": [
      "\n"
     ]
    }
   ],
   "source": [
    "from diffusers import AutoPipelineForText2Image\n",
    "import torch\n",
    "\n",
    "pipe = AutoPipelineForText2Image.from_pretrained(\n",
    "    \"stabilityai/sdxl-turbo\", torch_dtype=torch.float16, variant=\"fp16\"\n",
    ")\n",
    "pipe.to(\"cuda\")\n",
    "\n",
    "make_img(\"sdxl-turbo\", 1, 0)"
   ]
  },
  {
   "cell_type": "code",
   "execution_count": null,
   "id": "2e585031-d6de-4e89-b5b3-db87029aef58",
   "metadata": {},
   "outputs": [],
   "source": []
  }
 ],
 "metadata": {
  "kernelspec": {
   "display_name": "Python 3 (ipykernel)",
   "language": "python",
   "name": "python3"
  },
  "language_info": {
   "codemirror_mode": {
    "name": "ipython",
    "version": 3
   },
   "file_extension": ".py",
   "mimetype": "text/x-python",
   "name": "python",
   "nbconvert_exporter": "python",
   "pygments_lexer": "ipython3",
   "version": "3.10.12"
  }
 },
 "nbformat": 4,
 "nbformat_minor": 5
}
